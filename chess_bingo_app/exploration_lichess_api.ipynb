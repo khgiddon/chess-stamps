{
 "cells": [
  {
   "cell_type": "code",
   "execution_count": 1,
   "metadata": {},
   "outputs": [],
   "source": [
    "import chess\n",
    "import chess.pgn\n",
    "import io\n",
    "import pandas as pd\n",
    "import requests\n",
    "from time import sleep\n",
    "\n",
    "\"\"\"This script gets the total number of games played for each opening in the combined.tsv file.\"\"\"\n",
    "\n",
    "def pgn_to_uci(pgn_text):\n",
    "    pgn = io.StringIO(pgn_text)\n",
    "    game = chess.pgn.read_game(pgn)\n",
    "\n",
    "    # Get the game's mainline moves\n",
    "    mainline_moves = game.mainline_moves()\n",
    "    \n",
    "    uci_moves = [move.uci() for move in mainline_moves]\n",
    "    return uci_moves\n",
    "\n",
    "def get_stats(uci_moves):\n",
    "    url = f\"https://explorer.lichess.ovh/lichess?variant=standard&speeds=ultraBullet,bullet,blitz,rapid,classical,correspondence&play={','.join(uci_moves)}\"\n",
    "\n",
    "    response = requests.get(url)\n",
    "    response.raise_for_status()\n",
    "\n",
    "    data = response.json()\n",
    "    total_games = data['white'] + data['black'] + data['draws']\n",
    "\n",
    "    sleep(1.5)\n",
    "\n",
    "    return total_games\n",
    "\n",
    "\n",
    "openings_db = \"assets/openings_pgn/combined.tsv\"\n",
    "df = pd.read_csv(openings_db, sep=\"\\t\")\n",
    "\n",
    "# Create a new column called \"uci_moves\" and apply the pgn_to_uci function to each row\n",
    "df['uci_moves'] = df['pgn'].apply(pgn_to_uci)\n",
    "\n",
    "# Create a new column called \"games\" and get the total number of games played for each opening\n",
    "df['games'] = df['uci_moves'].apply(get_stats)\n",
    "\n",
    "\n",
    "df.to_csv(\"assets/openings_pgn/combined_with_stats.tsv\", sep=\"\\t\", index=False)"
   ]
  },
  {
   "cell_type": "code",
   "execution_count": null,
   "metadata": {},
   "outputs": [],
   "source": []
  }
 ],
 "metadata": {
  "kernelspec": {
   "display_name": "venv",
   "language": "python",
   "name": "python3"
  },
  "language_info": {
   "codemirror_mode": {
    "name": "ipython",
    "version": 3
   },
   "file_extension": ".py",
   "mimetype": "text/x-python",
   "name": "python",
   "nbconvert_exporter": "python",
   "pygments_lexer": "ipython3",
   "version": "3.11.5"
  },
  "orig_nbformat": 4
 },
 "nbformat": 4,
 "nbformat_minor": 2
}
