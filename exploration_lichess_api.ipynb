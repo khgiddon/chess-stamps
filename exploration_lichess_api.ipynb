{
 "cells": [
  {
   "cell_type": "code",
   "execution_count": 3,
   "metadata": {},
   "outputs": [],
   "source": [
    "import chess\n",
    "import chess.pgn\n",
    "import io\n",
    "import pandas as pd\n",
    "import requests\n",
    "from time import sleep\n",
    "\n",
    "def pgn_to_fen(pgn_text):\n",
    "    pgn = io.StringIO(pgn_text)\n",
    "    game = chess.pgn.read_game(pgn)\n",
    "    \n",
    "    # Get the board from the game\n",
    "    board = game.board()\n",
    "\n",
    "    # Traverse through all moves and play them on a board\n",
    "    for move in game.mainline_moves():\n",
    "        board.push(move)\n",
    "\n",
    "    return board.fen()\n",
    "\n",
    "\n",
    "openings_db = \"assets/openings_pgn/combined_with_stats_parents.tsv\"\n",
    "df = pd.read_csv(openings_db, sep=\"\\t\")\n",
    "df['fen'] = df['pgn'].apply(pgn_to_fen)\n",
    "\n",
    "df.to_csv(\"assets/openings_pgn/combined_with_stats_parents.tsv\", sep=\"\\t\", index=False)\n"
   ]
  },
  {
   "cell_type": "code",
   "execution_count": null,
   "metadata": {},
   "outputs": [],
   "source": []
  }
 ],
 "metadata": {
  "kernelspec": {
   "display_name": "venv",
   "language": "python",
   "name": "python3"
  },
  "language_info": {
   "codemirror_mode": {
    "name": "ipython",
    "version": 3
   },
   "file_extension": ".py",
   "mimetype": "text/x-python",
   "name": "python",
   "nbconvert_exporter": "python",
   "pygments_lexer": "ipython3",
   "version": "3.11.5"
  },
  "orig_nbformat": 4
 },
 "nbformat": 4,
 "nbformat_minor": 2
}
